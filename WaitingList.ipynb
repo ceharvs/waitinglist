{
 "cells": [
  {
   "cell_type": "markdown",
   "metadata": {},
   "source": [
    "# Waiting List Model\n",
    "\n",
    "Model to simulate the waiting list and multiple registrations in the organ transplant system.  Developed for the Course Project in CSS 610: Introduction to Computational Social Social Science.\n",
    "\n",
    "Model was developed using the Mesa package for Agent-Based Modeling."
   ]
  },
  {
   "cell_type": "code",
   "execution_count": 1,
   "metadata": {
    "collapsed": true
   },
   "outputs": [],
   "source": [
    "import numpy.random as npr\n",
    "from random import shuffle\n",
    "import numpy as np\n",
    "\n",
    "import matplotlib.pyplot as plt\n",
    "%matplotlib inline\n",
    "\n",
    "from mesa import Model, Agent\n",
    "from mesa.time import RandomActivation\n",
    "from mesa.space import Grid\n",
    "from mesa.datacollection import DataCollector\n",
    "from mesa.batchrunner import BatchRunner "
   ]
  },
  {
   "cell_type": "markdown",
   "metadata": {},
   "source": [
    "## Designing Patients\n",
    "\n",
    "The agents in this model are patients.  Patients are either Waiting, Selected, Transplanted, or Deceased, this state of the patient corresponds to the patient's condition.\n",
    "\n",
    "Patients also have other attributes including a unique identifier, an assigned lifespan, a counter for the amount of time they have been waiting, a list of regions where they are registered and a primary region of registration."
   ]
  },
  {
   "cell_type": "code",
   "execution_count": 6,
   "metadata": {
    "collapsed": false
   },
   "outputs": [],
   "source": [
    "class Patient(Agent):\n",
    "    '''\n",
    "    A patient in the simulation.\n",
    "    \n",
    "    Attributes:\n",
    "        condition: Waiting or Selected or Transplanted or Deceased\n",
    "        regions: regions where the patient is waiting\n",
    "        my_id: Integer identifier, represents order the agent is added to the model\n",
    "        primary: Primary listing region of the agent\n",
    "        lifespan: Lifespan of the agent before selection\n",
    "        waiting: amount of time spent waiting on the list\n",
    "        advantaged: whether or not the patient is advantaged\n",
    "        \n",
    "    '''\n",
    "    def __init__(self, my_id, regions, lifespan):\n",
    "        '''\n",
    "        Create a new agent\n",
    "        Args: \n",
    "        '''\n",
    "        self.my_id = str(my_id)\n",
    "        self.regions = regions\n",
    "        self.primary = self.regions[0]\n",
    "        self.condition = \"Waiting\"\n",
    "        self.lifespan = lifespan\n",
    "        self.waiting = 0\n",
    "        if len(regions) > 1:\n",
    "            self.advantaged = True\n",
    "        else:\n",
    "            self.advantaged = False\n",
    "        \n",
    "    def selected(self):\n",
    "        '''\n",
    "        Set the patient's condition to \"Selected\"\n",
    "        '''\n",
    "        self.condition = \"Selected\"\n",
    "        \n",
    "    def get_primary(self):\n",
    "        '''\n",
    "        Return the patient's primary listing\n",
    "        '''\n",
    "        return self.primary\n",
    "            \n",
    "    def get_condition(self):\n",
    "        '''\n",
    "        Return the patient's condition\n",
    "        '''\n",
    "        return self.condition\n",
    "        \n",
    "    def step(self, model):\n",
    "        '''\n",
    "        If a patient is at the top of the list, they will receive a transplant\n",
    "        Age the patient by one time step.\n",
    "        If the patient has been selected, change their condition to transplanted\n",
    "        Else: if the patient is waiting and waiting >= lifespan, change condition to Deceased\n",
    "        '''\n",
    "        # Increment the patient's waiting\n",
    "        self.waiting += 1\n",
    "        #print \"Patient \" + self.my_id +\" aged to \" + str(self.waiting)\n",
    "        \n",
    "        # Convert person to transplant\n",
    "        if self.condition == \"Selected\":\n",
    "            self.condition = \"Transplanted\" \n",
    "        elif self.condition == \"Waiting\" and self.waiting >= self.lifespan:\n",
    "            self.condition = \"Deceased\"\n",
    "            \n",
    "        \n",
    "    def __str__(self):\n",
    "        return str(self.my_id)"
   ]
  },
  {
   "cell_type": "markdown",
   "metadata": {},
   "source": [
    "## Defining the Model\n",
    "\n",
    "The model, *Waiting List*, simulated the patients in the waiting list environment.  \n",
    "\n",
    "### Model Inputs\n",
    "The model as many parameters which can be set on the command line including:\n",
    "\n",
    "* regions: Number of regions in the model\n",
    "* initial_patients: Number of patients to use when the model is initiated\n",
    "* additional_patients: number of patients to be added to the model yearly\n",
    "* transplant_rates: list of transplant rates, this is the number of patients per list that will be selected for a transplant each year.\n",
    "* queue_probabilities: probability that a generated patient will be assigned to each of the regions\n",
    "* advantage_prob: Probability that a patient in the model will be \"advantaged\" and therefore able to register on more than one list.\n",
    "* output: flag for the output of the model, set to true by default, can be turned off in batch mode.\n",
    "* max_lifespan: maximum lifespan for a patient in the model, used to randomly generate patient's expected life-spans.\n",
    "* smart_listing: flag for whether agents will pick alternate waiting lists based on shorter queues\n",
    "\n",
    "\n",
    "### Model State\n",
    "In order the track the current state of the model, several variables are used:\n",
    "\n",
    "* ticks: time steps of the model that have passed, this can be viewed reasonably as months\n",
    "* candidates: number of total candidated active in the model\n",
    "* queue: List of lists of the waiting list queues in the model\n",
    "\n",
    "The DataCollector feature of Mesa is used to teach the model objects and the number of patients in each state.  This data collector tracks the number of patients in each of the patient states (waiting, selected, deceased, or transplanted) at every time step and records the informaiton in an an easy to plot data frame.\n",
    "\n",
    "### Model Outputs\n",
    "\n",
    "In addition to the DataCollector of patient states, the model also tracks several important lists that track the number of agents in each of the queues meeting certain criteria:\n",
    "\n",
    "* primary_listing_transplant: Patients transplanted that were a primary listing in this queue\n",
    "* alternate_listing_transplant: Patients transplanted that were an alternate listing in this queue\n",
    "* count_transplanted_elsewhere: Primary listed patients that receieved a transplant elsewhere\n",
    "* count_deceased_before_transplant: Number of primary patients that died before receiving a transplant\n",
    "* primary_waiting: Number of Primary Patients added to the Waiting List\n",
    "* alternate_waiting: Number of Alternate Patients added to the Waiting List\n",
    "\n",
    "### Methods\n",
    "The model consists of several methods including add_candidates, step, print_queue, count_types, and a variety of statistical reporting methods.  \n",
    "\n",
    "#### Add Candidates\n",
    "The add_candidates method takes the number of people to be added as an input.  This number of candidates are created and added to the model.  \n",
    "\n",
    "Creating a canditate consists of the following steps:\n",
    "\n",
    "1. Each patient is first added to a primary region, which is randomly selected based on the queue_probabilities variable specified in the inalilization phase of the model.  \n",
    "2. Once a patient is added to a primary region, it is stochastically determined if they will be listed at more than one queue based on the advantage_probability.  If the patient is selected as being advantaged, they are randomly added to a random number of additional queues, uniformly distributed between 1 and regions/2.  This means an advantage patient has the ability to have an additional registration at anywhere from 2 regions to half of all regions.  \n",
    "3.  Assign the patient an ID based on the order they are generated.\n",
    "4.  Assign the patient a lifespan according to max_lifespan.\n",
    "5.  Create the patient using the Patient Class.\n",
    "6.  Add the patient to their assigned waiting lists, appending the agents to the end of each of the lists.\n",
    "7.  Add the new patient to the schedule.\n",
    "\n",
    "#### Step\n",
    "The step method moved the model one step forward.  Each time the step function is run it executed the following procedures and actions:\n",
    "\n",
    "1.  Schedule the next step for the model to take.\n",
    "2.  Collect the previously specified data. \n",
    "3.  Select the agents that will be transplanted.  First the order of the waiting list queues needs to be randomly shuffled.  This ensures that certain waiting lists won't always be transplanted before others.  This is especially important for multiple listings, once a patient is selected on one list they are skipped over for a transplant in another region.  Therefore whichever region selects patients first will be transplanting multiple wait-listed patients more frequently than any other list.\n",
    "    a.  Loop over the regions in the shuffled order and determine the number to be selected from the rates previously provided in the initalization phase, nTransplant.\n",
    "    b.  Copy the queue from the listing of queues to a local copy for simplicity.\n",
    "    c.  Select the first nTransplant patients that are eligible (not already transplanted, selected, or deceased).  Change the state of these patients to \"Selected\".\n",
    "4.  Add new patients to the list, according to the numbe of specified in the initalization phase as additional_patients.\n",
    "5.  Increment the number of time steps elapsed by 1.\n",
    "6.  If there are no longer any patients waiing or the time steps has exceeded 60, stop running the model.\n",
    "\n",
    "#### Print Queue\n",
    "Helper function to print out the queues of patients.  These are printed out in list of list formats with the patient identifier numbers.\n",
    "\n",
    "#### Count Type\n",
    "The count_type function is used to count the total number of patients of a given state at each time step of the model.\n",
    "            \n",
    "#### Get \\* Functions\n",
    "\n",
    "The following functions are all used to return summary statistics when the model is run in batch mode, these statistics are sums of the earlier mentioned outputs of the model.  \n",
    "\n",
    "* get_primary_center_transplants: The number of primary transplants\n",
    "* get_alternate_center_transplants: The number of alernate translplants\n",
    "* get_transplanted_elsewhere: The total number of patients that were transplanted at a region that was *not* their primary location.\n",
    "* get_deceased_before_transplant:  The number of patients that died before receieving a transplant, counted once for the primary listing.\n",
    "* get_primary_listings: The number of primary transplant listings\n",
    "* get_alternate_listings: The number of alternate transplant listings\n",
    "\n",
    "#### Finalize\n",
    "When the model is not run in batch mode, this method is useful to view the overall model statistics generated.  "
   ]
  },
  {
   "cell_type": "code",
   "execution_count": 132,
   "metadata": {
    "collapsed": false
   },
   "outputs": [],
   "source": [
    "class WaitingList(Model):\n",
    "    '''\n",
    "    Waiting List model describing multiple queues and registration listing in the organ\n",
    "    transplant system.\n",
    "    '''\n",
    "    def __init__(self, regions, initial_patients, additional_patients, \n",
    "                 transplant_rates=[8, 5, 2, 2], queue_probabilities=[.5, .3, .15, .05], \n",
    "                 advantage_prob=0.05, output=True, max_lifespan=96, smart_listing=True):\n",
    "        '''\n",
    "        Method to initialize the model\n",
    "        \n",
    "        arguments:\n",
    "            regions: number of regions in the model\n",
    "            intiial_patients: total number of patients to initiate in the model\n",
    "            additional_patients: number of patients to be added to the model yearly\n",
    "            transplant_rates: list of transplant rates, this is the number of patients per \n",
    "                list that will be selected for a transplant each year.\n",
    "            queue_probabilities: probability that a generated patient will be assigned\n",
    "                to each of the regions\n",
    "            advantage_prob: Probability that a patient in the model will be \"advantaged\" and \n",
    "                therefore able to register on more than one list.\n",
    "            output: flag for the output of the model, set to true by default, can be turned off in batch mode\n",
    "            max_lifespan: maximum lifespan for a patient\n",
    "            smart_listing: flag for whether agents will pick alternate waiting lists based on shorter queues\n",
    "        '''\n",
    "        # Initalize model parameters\n",
    "        self.regions = regions\n",
    "        self.intial_patients = initial_patients\n",
    "        self.rates = transplant_rates\n",
    "        self.advantage_probability = advantage_prob\n",
    "        self.additional_patients = additional_patients\n",
    "        self.queue_probabilities = queue_probabilities\n",
    "        self.output = output\n",
    "        self.max_lifespan = max_lifespan\n",
    "        self.smart_listing = smart_listing\n",
    "        \n",
    "        # Set up initial values for tracking model state\n",
    "        self.ticks = 0\n",
    "        self.candidates = 0\n",
    "        \n",
    "        # Set up the list of queues for the waiting lists\n",
    "        self.queues = []\n",
    "        \n",
    "        # Set up small lists to track the outcomes of each of the waiting lists\n",
    "        self.primary_listing_transplant = []  # TX of a patient that was a primary listing\n",
    "        self.alternate_listing_transplant = []  # TX of a patient that was an alternate listing\n",
    "        self.count_transplanted_elsewhere = []  # Primary patient was transplanted elsewhere\n",
    "        self.count_deceased_before_transplant = []  # Primary patient died before transplantation\n",
    "        self.primary_waiting = []  # Number of Primary Patients added to the Waiting List\n",
    "        self.alternate_waiting = []  # Number of Alternate Patients added to the Waiting List\n",
    "                \n",
    "        # Set up model objects, to track the number of patients in each state.\n",
    "        self.schedule = RandomActivation(self)\n",
    "        self.dc = DataCollector({\"Waiting\": lambda m: self.count_type(m, \"Waiting\"), \n",
    "                                \"Selected\": lambda m: self.count_type(m, \"Selected\"),\n",
    "                                \"Deceased\": lambda m: self.count_type(m, \"Deceased\"),\n",
    "                                \"Transplanted\": lambda m: self.count_type(m, \"Transplanted\")})\n",
    "        \n",
    "        # Initalize all the regions\n",
    "        for i in range(self.regions):\n",
    "            self.queues.append([])\n",
    "            self.primary_listing_transplant.append(0)\n",
    "            self.alternate_listing_transplant.append(0)\n",
    "            self.count_deceased_before_transplant.append(0)\n",
    "            self.count_transplanted_elsewhere.append(0)\n",
    "            self.primary_waiting.append(0)\n",
    "            self.alternate_waiting.append(0)\n",
    "            \n",
    "        \n",
    "        self.add_candidates(self.intial_patients)\n",
    "        \n",
    "        self.running = True\n",
    "        \n",
    "    def add_candidates(self, num_to_add):\n",
    "        \"\"\"\n",
    "        Add people to the regions\n",
    "        \"\"\"\n",
    "        # Place a person in each region\n",
    "        for i in range(num_to_add):\n",
    "            # Pick the primary region\n",
    "            patient_region = list(npr.choice(self.regions, 1, replace=False, p=self.queue_probabilities))\n",
    "            self.primary_waiting[patient_region[0]] += 1\n",
    "            # Determine if the patient is advantaged, random number > 99, add more regions\n",
    "            if npr.rand() <= self.advantage_probability:\n",
    "                # Remove the primary region from the list of possibilities\n",
    "                possible_regions = range(self.regions)\n",
    "                possible_regions.remove(patient_region[0])\n",
    "                # if using self.smart-listing, remove the chosen primary region from the rankings\n",
    "                if self.smart_listing:\n",
    "                    queue_sizes = []\n",
    "                    # Calculations of transplant rates/waiting list size calculations - for smart listing\n",
    "                    for region in range(self.regions):\n",
    "                        queue_sizes.append(len(self.queues[region]))\n",
    "                    best_choice_score =  list(np.array(self.rates).astype('float')/(np.array(queue_sizes)+1))\n",
    "                    best_choice_score.pop(patient_region[0])\n",
    "                    probs = np.array(best_choice_score)/sum(best_choice_score)\n",
    "                    \n",
    "                    # Select 1 to regions/2 more regions to join the waiting list\n",
    "                    secondary_listings = list(npr.choice(possible_regions, npr.randint(self.regions/2), replace=False, p=probs))\n",
    "                else:\n",
    "                    secondary_listings = list(npr.choice(possible_regions, npr.randint(self.regions/2), replace=False))\n",
    "                \n",
    "                patient_region.extend(secondary_listings)\n",
    "                # Add patient counts to alternate_waiting structure\n",
    "                for listing in secondary_listings:\n",
    "                    self.alternate_waiting[listing] += 1\n",
    "                \n",
    "            patient_id = self.candidates\n",
    "            self.candidates += 1\n",
    "            \n",
    "            patient_lifespan = npr.randint(self.max_lifespan)\n",
    "            \n",
    "            # Create the patient\n",
    "            new_patient = Patient(patient_id, patient_region, patient_lifespan)\n",
    "            \n",
    "            # Add to the queue\n",
    "            for q in patient_region:\n",
    "                self.queues[q].append(new_patient)\n",
    "            \n",
    "            # Add the the schedule\n",
    "            self.schedule.add(new_patient)\n",
    "            \n",
    "                \n",
    "    def step(self):\n",
    "        '''\n",
    "        Advance the model by one step.\n",
    "        '''\n",
    "        self.schedule.step()\n",
    "        self.dc.collect(self)\n",
    "        \n",
    "        \"\"\"\n",
    "        Select agents for transplant\n",
    "        \"\"\"        \n",
    "        # Shuffle the order\n",
    "        region_list = range(self.regions)\n",
    "        shuffle(region_list)\n",
    "        \n",
    "        # Loop over the regions\n",
    "        for i in region_list:\n",
    "            # transplants to be performed\n",
    "            num_to_select = self.rates[i]\n",
    "            queue = self.queues[i]\n",
    "            \n",
    "            # Mark patient as selected\n",
    "            j = 0\n",
    "            while j < num_to_select and len(queue) > 0:\n",
    "                top_of_list = queue.pop(0)\n",
    "                # print top_of_list.get_condition()\n",
    "                if top_of_list.get_condition() == \"Selected\" or top_of_list.get_condition() == \"Transplanted\":\n",
    "                    # If the patient has already been selected or transplanted, another location reached first\n",
    "                    # Only count if primary\n",
    "                    if top_of_list.get_primary() == i:\n",
    "                        self.count_deceased_before_transplant[i] +=1\n",
    "                    \n",
    "                elif top_of_list.get_condition() == \"Deceased\":\n",
    "                    # Patient died while waiting only count if primary\n",
    "                    if top_of_list.get_primary() == i:\n",
    "                        self.count_transplanted_elsewhere[i] +=1\n",
    "                    \n",
    "                else:\n",
    "                    top_of_list.selected()\n",
    "                    # If this is the primary listing location, add to the number of primary transplants given\n",
    "                    if top_of_list.get_primary() == i:\n",
    "                        self.primary_listing_transplant[i] += 1\n",
    "                    else:\n",
    "                        self.alternate_listing_transplant[i] += 1\n",
    "                    j+=1\n",
    "        \n",
    "        # Add new patients\n",
    "        self.add_candidates(self.additional_patients)\n",
    "        \n",
    "        self.ticks += 1\n",
    "                \n",
    "        # Halt if no more waiting or TS >= 60\n",
    "        if self.count_type(self, \"Waiting\") == 0 or self.ticks > 60:\n",
    "            if self.output:\n",
    "                self.finalize()\n",
    "            self.running = False\n",
    "            \n",
    "    def print_queue(self):\n",
    "        # Print out the intitial Queues\n",
    "        for queue in self.queues:\n",
    "            q = []\n",
    "            for candidate in queue:\n",
    "                q.append(str(candidate))\n",
    "            print q\n",
    "    \n",
    "    @staticmethod\n",
    "    def count_type(model, patient_condition):\n",
    "        '''\n",
    "        Helper method to count trees in a given condition in a given model.\n",
    "        '''\n",
    "        count = 0\n",
    "        for patient in model.schedule.agents:\n",
    "            if patient.condition == patient_condition:\n",
    "                count += 1\n",
    "        return count\n",
    "    \n",
    "    def get_primary_center_transplants(model):\n",
    "        return sum(model.primary_listing_transplant)\n",
    "    def get_alternate_center_transplants(model):\n",
    "        return sum(model.alternate_listing_transplant)\n",
    "    def get_transplanted_elsewhere(model):\n",
    "        return sum(model.count_transplanted_elsewhere)\n",
    "    def get_deceased_before_transplant(model):\n",
    "        return sum(model.count_deceased_before_transplant)\n",
    "    def get_primary_listings(model):\n",
    "        return sum(model.primary_waiting)\n",
    "    def get_alternate_listings(model):\n",
    "        return sum(model.alternate_waiting)\n",
    "    def get_waiting(model):\n",
    "        count = 0\n",
    "        for patient in model.schedule.agents:\n",
    "            if patient.condition == \"Waiting\":\n",
    "                count += 1\n",
    "        return count\n",
    "    def get_deceased(model):\n",
    "        count = 0\n",
    "        for patient in model.schedule.agents:\n",
    "            if patient.condition == \"Deceased\":\n",
    "                count += 1\n",
    "        return count\n",
    "    \n",
    "    def finalize(model):\n",
    "        print \"Number of primary Center Transplants: \" + str(model.primary_listing_transplant)\n",
    "        print \"Number of alternate Center Transplants: \" + str(model.alternate_listing_transplant)\n",
    "        print \"Number Transplanted elsewhere: \" + str(model.count_transplanted_elsewhere)\n",
    "        print \"Number of deceased before transplant: \" + str(model.count_deceased_before_transplant)  \n",
    "        print \"Number Primary Listings: \" + str(model.primary_waiting)\n",
    "        print \"Number Alternate Listings: \" + str(model.alternate_waiting)    "
   ]
  },
  {
   "cell_type": "markdown",
   "metadata": {},
   "source": [
    "## Running the model\n",
    "\n",
    "Set up an example run with:\n",
    "\n",
    "* regions = 4: Choose about four regions to represent\n",
    "* initial_patients = 16000: Size of the kidney waiting list / 10 (estimated)\n",
    "* additional_patients = 4500: Transplant additions minus the living donor ones (based on number of additions)\n",
    "* transplant_rates = [61, 37, 19, 26]\n",
    "    * use data from CAOP-OP1 OneLegacy DSA (610 DD TX)\n",
    "    * use data from ILP-OP1 Gifr of hope DSA (370 DD TX)\n",
    "    * use data from INOP-OP1 Indiana Donor Network DSA (188 DD TX)\n",
    "    * use data from MNOP-OP1 Lifesource Upper Midwest OPO (255 DD TX)\n",
    "    * Total: 5134\n",
    "* queue_probabilities = [0.42, 0.26, 0.11, 0.21]\n",
    "    * use data from CAOP-OP1 OneLegacy DSA (2164 additions)\n",
    "    * use data from ILP-OP1 Gifr of hope DSA (1354 additions)\n",
    "    * use data from INOP-OP1 Indiana Donor Network DSA (568 additions)\n",
    "    * use data from MNOP-OP1 Lifesource Upper Midwest OPO (1057 additions)\n",
    "    * Total: 5134\n",
    "* advantage_prob = 0.05\n",
    "* output = True\n",
    "* max_lifespan = 96\n",
    "\n",
    "Data from UNOS Website, cited in paper."
   ]
  },
  {
   "cell_type": "code",
   "execution_count": 133,
   "metadata": {
    "collapsed": false
   },
   "outputs": [
    {
     "name": "stdout",
     "output_type": "stream",
     "text": [
      "Number of primary Center Transplants: [305, 182, 113, 177]\n",
      "Number of alternate Center Transplants: [0, 1, 9, 6]\n",
      "Number Transplanted elsewhere: [234, 110, 73, 114]\n",
      "Number of deceased before transplant: [6, 4, 0, 3]\n",
      "Number Primary Listings: [16277, 10143, 4350, 8105]\n",
      "Number Alternate Listings: [155, 213, 341, 279]\n"
     ]
    }
   ],
   "source": [
    "# Remember to divide above yearly numbers by 12\n",
    "w = WaitingList(4, 16000, 375, transplant_rates=[5, 3, 2, 3], queue_probabilities=[0.42, 0.26, 0.11, 0.21], \n",
    "                 advantage_prob=0.05, output=True, max_lifespan=96)\n",
    "w.run_model()"
   ]
  },
  {
   "cell_type": "markdown",
   "metadata": {},
   "source": [
    "## Add graphics\n",
    "Plot the number of agents in each state over time."
   ]
  },
  {
   "cell_type": "code",
   "execution_count": 134,
   "metadata": {
    "collapsed": false
   },
   "outputs": [
    {
     "data": {
      "text/html": [
       "<div>\n",
       "<table border=\"1\" class=\"dataframe\">\n",
       "  <thead>\n",
       "    <tr style=\"text-align: right;\">\n",
       "      <th></th>\n",
       "      <th>Deceased</th>\n",
       "      <th>Selected</th>\n",
       "      <th>Transplanted</th>\n",
       "      <th>Waiting</th>\n",
       "    </tr>\n",
       "  </thead>\n",
       "  <tbody>\n",
       "    <tr>\n",
       "      <th>56</th>\n",
       "      <td>15844</td>\n",
       "      <td>0</td>\n",
       "      <td>728</td>\n",
       "      <td>20428</td>\n",
       "    </tr>\n",
       "    <tr>\n",
       "      <th>57</th>\n",
       "      <td>16214</td>\n",
       "      <td>0</td>\n",
       "      <td>741</td>\n",
       "      <td>20420</td>\n",
       "    </tr>\n",
       "    <tr>\n",
       "      <th>58</th>\n",
       "      <td>16611</td>\n",
       "      <td>0</td>\n",
       "      <td>754</td>\n",
       "      <td>20385</td>\n",
       "    </tr>\n",
       "    <tr>\n",
       "      <th>59</th>\n",
       "      <td>17022</td>\n",
       "      <td>0</td>\n",
       "      <td>767</td>\n",
       "      <td>20336</td>\n",
       "    </tr>\n",
       "    <tr>\n",
       "      <th>60</th>\n",
       "      <td>17393</td>\n",
       "      <td>0</td>\n",
       "      <td>780</td>\n",
       "      <td>20327</td>\n",
       "    </tr>\n",
       "  </tbody>\n",
       "</table>\n",
       "</div>"
      ],
      "text/plain": [
       "    Deceased  Selected  Transplanted  Waiting\n",
       "56     15844         0           728    20428\n",
       "57     16214         0           741    20420\n",
       "58     16611         0           754    20385\n",
       "59     17022         0           767    20336\n",
       "60     17393         0           780    20327"
      ]
     },
     "execution_count": 134,
     "metadata": {},
     "output_type": "execute_result"
    }
   ],
   "source": [
    "results = w.dc.get_model_vars_dataframe()\n",
    "results.tail()"
   ]
  },
  {
   "cell_type": "code",
   "execution_count": 135,
   "metadata": {
    "collapsed": false
   },
   "outputs": [
    {
     "data": {
      "text/plain": [
       "<matplotlib.axes._subplots.AxesSubplot at 0xf3fb358>"
      ]
     },
     "execution_count": 135,
     "metadata": {},
     "output_type": "execute_result"
    },
    {
     "data": {
      "image/png": "[encoded data removed]",
      "text/plain": [
       "<matplotlib.figure.Figure at 0xf59def0>"
      ]
     },
     "metadata": {},
     "output_type": "display_data"
    }
   ],
   "source": [
    "results.plot()"
   ]
  },
  {
   "cell_type": "code",
   "execution_count": 136,
   "metadata": {
    "collapsed": false
   },
   "outputs": [
    {
     "data": {
      "text/plain": [
       "<matplotlib.axes._subplots.AxesSubplot at 0xf316908>"
      ]
     },
     "execution_count": 136,
     "metadata": {},
     "output_type": "execute_result"
    },
    {
     "data": {
      "image/png": "[encoded data removed]",
      "text/plain": [
       "<matplotlib.figure.Figure at 0xf59dc88>"
      ]
     },
     "metadata": {},
     "output_type": "display_data"
    }
   ],
   "source": [
    "results.Waiting.plot()"
   ]
  },
  {
   "cell_type": "markdown",
   "metadata": {
    "collapsed": false
   },
   "source": [
    "## Batch runs\n",
    "\n",
    "Use batch runs to explore the model.\n",
    "\n",
    "Set up the parameter to cycle through in the model"
   ]
  },
  {
   "cell_type": "code",
   "execution_count": 137,
   "metadata": {
    "collapsed": false
   },
   "outputs": [],
   "source": [
    "param_set = dict(regions=4,\n",
    "                 initial_patients=1000,\n",
    "                 additional_patients=30,\n",
    "                 output=False,\n",
    "                 # Vary advantage_prob from 0 to 1, in 0.01 increments:\n",
    "                 advantage_prob=np.linspace(0,1,101)[1:]) "
   ]
  },
  {
   "cell_type": "markdown",
   "metadata": {},
   "source": [
    "Define the reporters that will be used in the model to track the outcomes of each scenario."
   ]
  },
  {
   "cell_type": "code",
   "execution_count": 121,
   "metadata": {
    "collapsed": false
   },
   "outputs": [],
   "source": [
    "# At the end of each model run, calculate the fraction of trees which are Burned Out\n",
    "model_reporter = {\"Primary_Transplants\": WaitingList.get_primary_center_transplants, \n",
    "                 \"Alternate_Transplants\": WaitingList.get_alternate_center_transplants,\n",
    "                 \"Transplanted_Elsewhere\": WaitingList.get_transplanted_elsewhere,\n",
    "                 \"Deceased\": WaitingList.get_deceased_before_transplant,\n",
    "                 \"Primary_Listings\": WaitingList.get_primary_listings,\n",
    "                 \"Alternate_Listings\": WaitingList.get_alternate_listings, \n",
    "                 \"Count_Waiting\": WaitingList.get_waiting, \n",
    "                 \"Count_Deceased\": WaitingList.get_deceased}"
   ]
  },
  {
   "cell_type": "code",
   "execution_count": 122,
   "metadata": {
    "collapsed": false
   },
   "outputs": [],
   "source": [
    "# Create the batch runner\n",
    "param_run = BatchRunner(WaitingList, param_set, model_reporters=model_reporter)"
   ]
  },
  {
   "cell_type": "markdown",
   "metadata": {},
   "source": [
    "### Execute the batch runs\n",
    "Perform the executions defined.  "
   ]
  },
  {
   "cell_type": "code",
   "execution_count": 123,
   "metadata": {
    "collapsed": false
   },
   "outputs": [],
   "source": [
    "param_run.run_all()"
   ]
  },
  {
   "cell_type": "markdown",
   "metadata": {},
   "source": [
    "Collect informaiotn from the runs using the dataframe generated by the batch runs."
   ]
  },
  {
   "cell_type": "code",
   "execution_count": 124,
   "metadata": {
    "collapsed": false
   },
   "outputs": [
    {
     "data": {
      "text/html": [
       "<div>\n",
       "<table border=\"1\" class=\"dataframe\">\n",
       "  <thead>\n",
       "    <tr style=\"text-align: right;\">\n",
       "      <th></th>\n",
       "      <th>Alternate_Listings</th>\n",
       "      <th>Alternate_Transplants</th>\n",
       "      <th>Count_Deceased</th>\n",
       "      <th>Count_Waiting</th>\n",
       "      <th>Deceased</th>\n",
       "      <th>Primary_Listings</th>\n",
       "      <th>Primary_Transplants</th>\n",
       "      <th>Run</th>\n",
       "      <th>Transplanted_Elsewhere</th>\n",
       "      <th>additional_patients</th>\n",
       "      <th>advantage_prob</th>\n",
       "      <th>initial_patients</th>\n",
       "      <th>output</th>\n",
       "      <th>regions</th>\n",
       "    </tr>\n",
       "  </thead>\n",
       "  <tbody>\n",
       "    <tr>\n",
       "      <th>0</th>\n",
       "      <td>1395</td>\n",
       "      <td>241</td>\n",
       "      <td>812</td>\n",
       "      <td>981</td>\n",
       "      <td>239</td>\n",
       "      <td>2830</td>\n",
       "      <td>796</td>\n",
       "      <td>97</td>\n",
       "      <td>505</td>\n",
       "      <td>30</td>\n",
       "      <td>0.98</td>\n",
       "      <td>1000</td>\n",
       "      <td>False</td>\n",
       "      <td>4</td>\n",
       "    </tr>\n",
       "    <tr>\n",
       "      <th>1</th>\n",
       "      <td>1180</td>\n",
       "      <td>214</td>\n",
       "      <td>806</td>\n",
       "      <td>987</td>\n",
       "      <td>213</td>\n",
       "      <td>2830</td>\n",
       "      <td>823</td>\n",
       "      <td>85</td>\n",
       "      <td>522</td>\n",
       "      <td>30</td>\n",
       "      <td>0.86</td>\n",
       "      <td>1000</td>\n",
       "      <td>False</td>\n",
       "      <td>4</td>\n",
       "    </tr>\n",
       "    <tr>\n",
       "      <th>2</th>\n",
       "      <td>142</td>\n",
       "      <td>52</td>\n",
       "      <td>811</td>\n",
       "      <td>982</td>\n",
       "      <td>37</td>\n",
       "      <td>2830</td>\n",
       "      <td>985</td>\n",
       "      <td>7</td>\n",
       "      <td>506</td>\n",
       "      <td>30</td>\n",
       "      <td>0.08</td>\n",
       "      <td>1000</td>\n",
       "      <td>False</td>\n",
       "      <td>4</td>\n",
       "    </tr>\n",
       "    <tr>\n",
       "      <th>3</th>\n",
       "      <td>1319</td>\n",
       "      <td>226</td>\n",
       "      <td>811</td>\n",
       "      <td>982</td>\n",
       "      <td>226</td>\n",
       "      <td>2830</td>\n",
       "      <td>811</td>\n",
       "      <td>89</td>\n",
       "      <td>519</td>\n",
       "      <td>30</td>\n",
       "      <td>0.90</td>\n",
       "      <td>1000</td>\n",
       "      <td>False</td>\n",
       "      <td>4</td>\n",
       "    </tr>\n",
       "    <tr>\n",
       "      <th>4</th>\n",
       "      <td>126</td>\n",
       "      <td>40</td>\n",
       "      <td>833</td>\n",
       "      <td>960</td>\n",
       "      <td>30</td>\n",
       "      <td>2830</td>\n",
       "      <td>997</td>\n",
       "      <td>8</td>\n",
       "      <td>557</td>\n",
       "      <td>30</td>\n",
       "      <td>0.09</td>\n",
       "      <td>1000</td>\n",
       "      <td>False</td>\n",
       "      <td>4</td>\n",
       "    </tr>\n",
       "  </tbody>\n",
       "</table>\n",
       "</div>"
      ],
      "text/plain": [
       "   Alternate_Listings  Alternate_Transplants  Count_Deceased  Count_Waiting  \\\n",
       "0                1395                    241             812            981   \n",
       "1                1180                    214             806            987   \n",
       "2                 142                     52             811            982   \n",
       "3                1319                    226             811            982   \n",
       "4                 126                     40             833            960   \n",
       "\n",
       "   Deceased  Primary_Listings  Primary_Transplants  Run  \\\n",
       "0       239              2830                  796   97   \n",
       "1       213              2830                  823   85   \n",
       "2        37              2830                  985    7   \n",
       "3       226              2830                  811   89   \n",
       "4        30              2830                  997    8   \n",
       "\n",
       "   Transplanted_Elsewhere  additional_patients  advantage_prob  \\\n",
       "0                     505                   30            0.98   \n",
       "1                     522                   30            0.86   \n",
       "2                     506                   30            0.08   \n",
       "3                     519                   30            0.90   \n",
       "4                     557                   30            0.09   \n",
       "\n",
       "   initial_patients output  regions  \n",
       "0              1000  False        4  \n",
       "1              1000  False        4  \n",
       "2              1000  False        4  \n",
       "3              1000  False        4  \n",
       "4              1000  False        4  "
      ]
     },
     "execution_count": 124,
     "metadata": {},
     "output_type": "execute_result"
    }
   ],
   "source": [
    "df = param_run.get_model_vars_dataframe()\n",
    "df.head()"
   ]
  },
  {
   "cell_type": "markdown",
   "metadata": {},
   "source": [
    "#### Advantage Probability vs. Deceased"
   ]
  },
  {
   "cell_type": "code",
   "execution_count": 125,
   "metadata": {
    "collapsed": false
   },
   "outputs": [
    {
     "data": {
      "text/plain": [
       "(0, 1)"
      ]
     },
     "execution_count": 125,
     "metadata": {},
     "output_type": "execute_result"
    },
    {
     "data": {
      "image/png": "[encoded data removed]",
      "text/plain": [
       "<matplotlib.figure.Figure at 0x11522390>"
      ]
     },
     "metadata": {},
     "output_type": "display_data"
    }
   ],
   "source": [
    "plt.scatter(df.advantage_prob, df.Deceased)\n",
    "plt.xlim(0,1)"
   ]
  },
  {
   "cell_type": "markdown",
   "metadata": {},
   "source": [
    "#### Number of Primary Waiting List Transplants performed"
   ]
  },
  {
   "cell_type": "code",
   "execution_count": 126,
   "metadata": {
    "collapsed": false
   },
   "outputs": [
    {
     "data": {
      "text/plain": [
       "(0, 1)"
      ]
     },
     "execution_count": 126,
     "metadata": {},
     "output_type": "execute_result"
    },
    {
     "data": {
      "image/png": "[encoded data removed]",
      "text/plain": [
       "<matplotlib.figure.Figure at 0x105983c8>"
      ]
     },
     "metadata": {},
     "output_type": "display_data"
    }
   ],
   "source": [
    "plt.scatter(df.advantage_prob, df.Primary_Transplants)\n",
    "plt.xlim(0,1)"
   ]
  },
  {
   "cell_type": "markdown",
   "metadata": {},
   "source": [
    "#### Number of Alternate Listing Transplant Performed"
   ]
  },
  {
   "cell_type": "code",
   "execution_count": 127,
   "metadata": {
    "collapsed": false
   },
   "outputs": [
    {
     "data": {
      "text/plain": [
       "(0, 1)"
      ]
     },
     "execution_count": 127,
     "metadata": {},
     "output_type": "execute_result"
    },
    {
     "data": {
      "image/png": "[encoded data removed]",
      "text/plain": [
       "<matplotlib.figure.Figure at 0xee7c668>"
      ]
     },
     "metadata": {},
     "output_type": "display_data"
    }
   ],
   "source": [
    "plt.scatter(df.advantage_prob, df.Alternate_Transplants)\n",
    "plt.xlim(0,1)"
   ]
  },
  {
   "cell_type": "markdown",
   "metadata": {},
   "source": [
    "#### Number of Primary and Alternate Waiting List Transplants performed"
   ]
  },
  {
   "cell_type": "code",
   "execution_count": 128,
   "metadata": {
    "collapsed": false
   },
   "outputs": [
    {
     "data": {
      "text/plain": [
       "(0, 1)"
      ]
     },
     "execution_count": 128,
     "metadata": {},
     "output_type": "execute_result"
    },
    {
     "data": {
      "image/png": "[encoded data removed]",
      "text/plain": [
       "<matplotlib.figure.Figure at 0x11027c18>"
      ]
     },
     "metadata": {},
     "output_type": "display_data"
    }
   ],
   "source": [
    "plt.scatter(df.advantage_prob, df.Primary_Transplants, color='red')\n",
    "plt.scatter(df.advantage_prob, df.Alternate_Transplants)\n",
    "plt.xlim(0,1)"
   ]
  },
  {
   "cell_type": "markdown",
   "metadata": {},
   "source": [
    "#### Advantage Probability vs. Waiting List"
   ]
  },
  {
   "cell_type": "code",
   "execution_count": 129,
   "metadata": {
    "collapsed": false
   },
   "outputs": [
    {
     "data": {
      "text/plain": [
       "(0, 1)"
      ]
     },
     "execution_count": 129,
     "metadata": {},
     "output_type": "execute_result"
    },
    {
     "data": {
      "image/png": "[encoded data removed]",
      "text/plain": [
       "<matplotlib.figure.Figure at 0xee7ccf8>"
      ]
     },
     "metadata": {},
     "output_type": "display_data"
    }
   ],
   "source": [
    "plt.scatter(df.advantage_prob, df.Count_Waiting)\n",
    "plt.xlim(0,1)"
   ]
  },
  {
   "cell_type": "markdown",
   "metadata": {},
   "source": [
    "#### Count of deceased"
   ]
  },
  {
   "cell_type": "code",
   "execution_count": 130,
   "metadata": {
    "collapsed": false
   },
   "outputs": [
    {
     "data": {
      "text/plain": [
       "(0, 1)"
      ]
     },
     "execution_count": 130,
     "metadata": {},
     "output_type": "execute_result"
    },
    {
     "data": {
      "image/png": "[encoded data removed]",
      "text/plain": [
       "<matplotlib.figure.Figure at 0x10c08320>"
      ]
     },
     "metadata": {},
     "output_type": "display_data"
    }
   ],
   "source": [
    "plt.scatter(df.advantage_prob, df.Count_Deceased)\n",
    "plt.xlim(0,1)"
   ]
  },
  {
   "cell_type": "code",
   "execution_count": 131,
   "metadata": {
    "collapsed": false
   },
   "outputs": [
    {
     "ename": "ValueError",
     "evalue": "probabilities do not sum to 1",
     "output_type": "error",
     "traceback": [
      "\u001b[1;31m---------------------------------------------------------------------------\u001b[0m",
      "\u001b[1;31mValueError\u001b[0m                                Traceback (most recent call last)",
      "\u001b[1;32m<ipython-input-131-5d6b2ee29a90>\u001b[0m in \u001b[0;36m<module>\u001b[1;34m()\u001b[0m\n\u001b[1;32m----> 1\u001b[1;33m \u001b[0mnp\u001b[0m\u001b[1;33m.\u001b[0m\u001b[0mrandom\u001b[0m\u001b[1;33m.\u001b[0m\u001b[0mchoice\u001b[0m\u001b[1;33m(\u001b[0m\u001b[1;36m5\u001b[0m\u001b[1;33m,\u001b[0m \u001b[1;36m3\u001b[0m\u001b[1;33m,\u001b[0m \u001b[0mp\u001b[0m\u001b[1;33m=\u001b[0m\u001b[1;33m[\u001b[0m\u001b[1;36m0.1\u001b[0m\u001b[1;33m,\u001b[0m \u001b[1;36m0\u001b[0m\u001b[1;33m,\u001b[0m \u001b[1;36m0.2\u001b[0m\u001b[1;33m,\u001b[0m \u001b[1;36m0.6\u001b[0m\u001b[1;33m,\u001b[0m \u001b[1;36m0\u001b[0m\u001b[1;33m]\u001b[0m\u001b[1;33m)\u001b[0m\u001b[1;33m\u001b[0m\u001b[0m\n\u001b[0m",
      "\u001b[1;32mmtrand.pyx\u001b[0m in \u001b[0;36mmtrand.RandomState.choice (numpy\\random\\mtrand\\mtrand.c:12186)\u001b[1;34m()\u001b[0m\n",
      "\u001b[1;31mValueError\u001b[0m: probabilities do not sum to 1"
     ]
    }
   ],
   "source": [
    "np.random.choice(5, 3, p=[0.1, 0, 0.2, 0.6, 0])"
   ]
  },
  {
   "cell_type": "code",
   "execution_count": 88,
   "metadata": {
    "collapsed": false
   },
   "outputs": [
    {
     "name": "stdout",
     "output_type": "stream",
     "text": [
      "[0.2857142857142857, 0.20000000000000001, 0.5, 1.0]\n"
     ]
    },
    {
     "data": {
      "text/plain": [
       "[0.2857142857142857, 0.5, 1.0]"
      ]
     },
     "execution_count": 88,
     "metadata": {},
     "output_type": "execute_result"
    }
   ],
   "source": [
    "k = [['59', '62', '63', '65', '67', '68'],\n",
    "['35', '37', '43', '44', '45', '48', '52', '55', '56', '57', '58', '60', '64', '69'],\n",
    "['41', '42', '50', '53', '54', '61', '66'],\n",
    "[2]]\n",
    "len(k[1])\n",
    "sizes = []\n",
    "for i in k:\n",
    "    sizes.append(len(i))\n",
    "rates = [2, 3, 4, 2]\n",
    "m =  np.array(rates).astype('float')/(np.array(sizes)+1)\n",
    "m = list(m)\n",
    "print m\n",
    "m.pop(1)\n",
    "m"
   ]
  },
  {
   "cell_type": "code",
   "execution_count": null,
   "metadata": {
    "collapsed": true
   },
   "outputs": [],
   "source": [
    "f"
   ]
  }
 ],
 "metadata": {
  "kernelspec": {
   "display_name": "Python 2",
   "language": "python",
   "name": "python2"
  },
  "language_info": {
   "codemirror_mode": {
    "name": "ipython",
    "version": 2
   },
   "file_extension": ".py",
   "mimetype": "text/x-python",
   "name": "python",
   "nbconvert_exporter": "python",
   "pygments_lexer": "ipython2",
   "version": "2.7.10"
  }
 },
 "nbformat": 4,
 "nbformat_minor": 0
}
